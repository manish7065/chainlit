{
 "cells": [
  {
   "cell_type": "code",
   "execution_count": 3,
   "metadata": {},
   "outputs": [],
   "source": [
    "import os\n",
    "os.chdir('/media/admi/11C3-38C6/DS/projects/chainlit')"
   ]
  },
  {
   "cell_type": "code",
   "execution_count": 8,
   "metadata": {},
   "outputs": [],
   "source": [
    "from src.prompts import system_instruction\n",
    "import openai\n",
    "\n",
    "messages = [{'role':'system','content':system_instruction}]\n",
    "\n",
    "def get_gpt_response(messages,model=\"gpt-3.5-turbo\",temperature=0):\n",
    "    try:\n",
    "        response=openai.ChatCompletion.create(\n",
    "            model=model,\n",
    "            temperature=temperature,\n",
    "            messages=messages\n",
    "        )\n",
    "        return response.choices[0].message[\"content\"]\n",
    "        \n",
    "    except Exception as e:\n",
    "        print(f\"Error occured in zomato bot: {e}\")\n",
    "        raise e"
   ]
  },
  {
   "cell_type": "code",
   "execution_count": 9,
   "metadata": {},
   "outputs": [
    {
     "name": "stdout",
     "output_type": "stream",
     "text": [
      ">>>>Messages to gpt: hi\n",
      ">>>>Chat Reaponse: Hello! Welcome to Zomato's Indian Food Delights! How can I assist you today?\n"
     ]
    }
   ],
   "source": [
    "from src.prompts import system_instruction\n",
    "# from src.llm import messages,get_gpt_response\n",
    "\n",
    "\n",
    "messages.append({'role':'user','content':'hi'})\n",
    "print(f\">>>>Messages to gpt: {'hi'}\")\n",
    "chat_response = get_gpt_response(messages)\n",
    "print(f\">>>>Chat Reaponse: {chat_response}\")\n",
    "messages.append({'role':'assistant','content':chat_response})\n",
    "\n",
    "# print(system_instruction)"
   ]
  },
  {
   "cell_type": "code",
   "execution_count": null,
   "metadata": {},
   "outputs": [],
   "source": []
  }
 ],
 "metadata": {
  "kernelspec": {
   "display_name": "chat_env",
   "language": "python",
   "name": "python3"
  },
  "language_info": {
   "codemirror_mode": {
    "name": "ipython",
    "version": 3
   },
   "file_extension": ".py",
   "mimetype": "text/x-python",
   "name": "python",
   "nbconvert_exporter": "python",
   "pygments_lexer": "ipython3",
   "version": "3.9.16"
  },
  "orig_nbformat": 4
 },
 "nbformat": 4,
 "nbformat_minor": 2
}
